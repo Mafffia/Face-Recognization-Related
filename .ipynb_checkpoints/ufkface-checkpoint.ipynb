{
 "cells": [
  {
   "cell_type": "code",
   "execution_count": 1,
   "id": "0505a0ab",
   "metadata": {},
   "outputs": [
    {
     "name": "stdout",
     "output_type": "stream",
     "text": [
      "./lfw_funneled/German_Khan/German_Khan_0001.jpg German_Khan\n"
     ]
    }
   ],
   "source": [
    "#play around with insightface model.\n",
    "import cv2\n",
    "import numpy as np\n",
    "import insightface\n",
    "from insightface.app import FaceAnalysis\n",
    "from sklearn.cluster import DBSCAN\n",
    "from insightface.data import get_image as ins_get_image\n",
    "from sklearn.decomposition import PCA\n",
    "\n",
    "from sklearn.manifold import TSNE\n",
    "import pandas as pd\n",
    "import matplotlib.pyplot as plt\n",
    "from sklearn.cluster import OPTICS\n",
    "import umap\n",
    "from mpl_toolkits.mplot3d import Axes3D\n",
    "from utk import ge"
   ]
  },
  {
   "cell_type": "code",
   "execution_count": 2,
   "id": "323aef85",
   "metadata": {},
   "outputs": [
    {
     "ename": "NameError",
     "evalue": "name 'get_utl_files' is not defined",
     "output_type": "error",
     "traceback": [
      "\u001b[0;31m---------------------------------------------------------------------------\u001b[0m",
      "\u001b[0;31mNameError\u001b[0m                                 Traceback (most recent call last)",
      "\u001b[0;32m<ipython-input-2-22909200bb53>\u001b[0m in \u001b[0;36m<module>\u001b[0;34m\u001b[0m\n\u001b[0;32m----> 1\u001b[0;31m \u001b[0mage\u001b[0m\u001b[0;34m,\u001b[0m\u001b[0mgenders\u001b[0m\u001b[0;34m,\u001b[0m\u001b[0mraces\u001b[0m\u001b[0;34m,\u001b[0m\u001b[0mfiles\u001b[0m \u001b[0;34m=\u001b[0m \u001b[0mget_utl_files\u001b[0m\u001b[0;34m(\u001b[0m\u001b[0;34m'./UTKFace/'\u001b[0m\u001b[0;34m)\u001b[0m\u001b[0;34m\u001b[0m\u001b[0;34m\u001b[0m\u001b[0m\n\u001b[0m",
      "\u001b[0;31mNameError\u001b[0m: name 'get_utl_files' is not defined"
     ]
    }
   ],
   "source": [
    "age,genders,races,files = get_utk_files('./UTKFace/')"
   ]
  },
  {
   "cell_type": "code",
   "execution_count": null,
   "id": "92fd4e89",
   "metadata": {},
   "outputs": [],
   "source": []
  }
 ],
 "metadata": {
  "kernelspec": {
   "display_name": "Python [conda env:d2l] *",
   "language": "python",
   "name": "conda-env-d2l-py"
  },
  "language_info": {
   "codemirror_mode": {
    "name": "ipython",
    "version": 3
   },
   "file_extension": ".py",
   "mimetype": "text/x-python",
   "name": "python",
   "nbconvert_exporter": "python",
   "pygments_lexer": "ipython3",
   "version": "3.8.10"
  }
 },
 "nbformat": 4,
 "nbformat_minor": 5
}
